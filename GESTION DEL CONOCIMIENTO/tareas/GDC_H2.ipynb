{
  "cells": [
    {
      "cell_type": "markdown",
      "metadata": {},
      "source": [
        "# Tarea 2 — Gestión del Conocimiento\n",
        "\n",
        "**Name:** -- Víctor Manuel Mariscal Cervantes --\n",
        "\n",
        "**e-mail:** -- victor.mariscal4459@alumnos.udg.mx --\n",
        "\n",
        "**Archivo:** GDC_H2.ipynb\n"
      ]
    },
    {
      "cell_type": "markdown",
      "metadata": {},
      "source": [
        "# MODULES"
      ]
    },
    {
      "cell_type": "code",
      "execution_count": 4,
      "metadata": {},
      "outputs": [
        {
          "name": "stdout",
          "output_type": "stream",
          "text": [
            "Requirement already satisfied: matplotlib in /Library/Frameworks/Python.framework/Versions/3.13/lib/python3.13/site-packages (3.10.6)\n",
            "Requirement already satisfied: contourpy>=1.0.1 in /Library/Frameworks/Python.framework/Versions/3.13/lib/python3.13/site-packages (from matplotlib) (1.3.3)\n",
            "Requirement already satisfied: cycler>=0.10 in /Library/Frameworks/Python.framework/Versions/3.13/lib/python3.13/site-packages (from matplotlib) (0.12.1)\n",
            "Requirement already satisfied: fonttools>=4.22.0 in /Library/Frameworks/Python.framework/Versions/3.13/lib/python3.13/site-packages (from matplotlib) (4.59.2)\n",
            "Requirement already satisfied: kiwisolver>=1.3.1 in /Library/Frameworks/Python.framework/Versions/3.13/lib/python3.13/site-packages (from matplotlib) (1.4.9)\n",
            "Requirement already satisfied: numpy>=1.23 in /Library/Frameworks/Python.framework/Versions/3.13/lib/python3.13/site-packages (from matplotlib) (2.3.2)\n",
            "Requirement already satisfied: packaging>=20.0 in /Library/Frameworks/Python.framework/Versions/3.13/lib/python3.13/site-packages (from matplotlib) (25.0)\n",
            "Requirement already satisfied: pillow>=8 in /Library/Frameworks/Python.framework/Versions/3.13/lib/python3.13/site-packages (from matplotlib) (11.3.0)\n",
            "Requirement already satisfied: pyparsing>=2.3.1 in /Library/Frameworks/Python.framework/Versions/3.13/lib/python3.13/site-packages (from matplotlib) (3.2.3)\n",
            "Requirement already satisfied: python-dateutil>=2.7 in /Library/Frameworks/Python.framework/Versions/3.13/lib/python3.13/site-packages (from matplotlib) (2.9.0.post0)\n",
            "Requirement already satisfied: six>=1.5 in /Library/Frameworks/Python.framework/Versions/3.13/lib/python3.13/site-packages (from python-dateutil>=2.7->matplotlib) (1.17.0)\n",
            "Note: you may need to restart the kernel to use updated packages.\n",
            "Requirement already satisfied: ipykernel in /Library/Frameworks/Python.framework/Versions/3.13/lib/python3.13/site-packages (6.30.1)\n",
            "Requirement already satisfied: appnope>=0.1.2 in /Library/Frameworks/Python.framework/Versions/3.13/lib/python3.13/site-packages (from ipykernel) (0.1.4)\n",
            "Requirement already satisfied: comm>=0.1.1 in /Library/Frameworks/Python.framework/Versions/3.13/lib/python3.13/site-packages (from ipykernel) (0.2.3)\n",
            "Requirement already satisfied: debugpy>=1.6.5 in /Library/Frameworks/Python.framework/Versions/3.13/lib/python3.13/site-packages (from ipykernel) (1.8.16)\n",
            "Requirement already satisfied: ipython>=7.23.1 in /Library/Frameworks/Python.framework/Versions/3.13/lib/python3.13/site-packages (from ipykernel) (9.5.0)\n",
            "Requirement already satisfied: jupyter-client>=8.0.0 in /Library/Frameworks/Python.framework/Versions/3.13/lib/python3.13/site-packages (from ipykernel) (8.6.3)\n",
            "Requirement already satisfied: jupyter-core!=5.0.*,>=4.12 in /Library/Frameworks/Python.framework/Versions/3.13/lib/python3.13/site-packages (from ipykernel) (5.8.1)\n",
            "Requirement already satisfied: matplotlib-inline>=0.1 in /Library/Frameworks/Python.framework/Versions/3.13/lib/python3.13/site-packages (from ipykernel) (0.1.7)\n",
            "Requirement already satisfied: nest-asyncio>=1.4 in /Library/Frameworks/Python.framework/Versions/3.13/lib/python3.13/site-packages (from ipykernel) (1.6.0)\n",
            "Requirement already satisfied: packaging>=22 in /Library/Frameworks/Python.framework/Versions/3.13/lib/python3.13/site-packages (from ipykernel) (25.0)\n",
            "Requirement already satisfied: psutil>=5.7 in /Library/Frameworks/Python.framework/Versions/3.13/lib/python3.13/site-packages (from ipykernel) (7.0.0)\n",
            "Requirement already satisfied: pyzmq>=25 in /Library/Frameworks/Python.framework/Versions/3.13/lib/python3.13/site-packages (from ipykernel) (27.0.2)\n",
            "Requirement already satisfied: tornado>=6.2 in /Library/Frameworks/Python.framework/Versions/3.13/lib/python3.13/site-packages (from ipykernel) (6.5.2)\n",
            "Requirement already satisfied: traitlets>=5.4.0 in /Library/Frameworks/Python.framework/Versions/3.13/lib/python3.13/site-packages (from ipykernel) (5.14.3)\n",
            "Requirement already satisfied: decorator in /Library/Frameworks/Python.framework/Versions/3.13/lib/python3.13/site-packages (from ipython>=7.23.1->ipykernel) (5.2.1)\n",
            "Requirement already satisfied: ipython-pygments-lexers in /Library/Frameworks/Python.framework/Versions/3.13/lib/python3.13/site-packages (from ipython>=7.23.1->ipykernel) (1.1.1)\n",
            "Requirement already satisfied: jedi>=0.16 in /Library/Frameworks/Python.framework/Versions/3.13/lib/python3.13/site-packages (from ipython>=7.23.1->ipykernel) (0.19.2)\n",
            "Requirement already satisfied: pexpect>4.3 in /Library/Frameworks/Python.framework/Versions/3.13/lib/python3.13/site-packages (from ipython>=7.23.1->ipykernel) (4.9.0)\n",
            "Requirement already satisfied: prompt_toolkit<3.1.0,>=3.0.41 in /Library/Frameworks/Python.framework/Versions/3.13/lib/python3.13/site-packages (from ipython>=7.23.1->ipykernel) (3.0.52)\n",
            "Requirement already satisfied: pygments>=2.4.0 in /Library/Frameworks/Python.framework/Versions/3.13/lib/python3.13/site-packages (from ipython>=7.23.1->ipykernel) (2.19.2)\n",
            "Requirement already satisfied: stack_data in /Library/Frameworks/Python.framework/Versions/3.13/lib/python3.13/site-packages (from ipython>=7.23.1->ipykernel) (0.6.3)\n",
            "Requirement already satisfied: wcwidth in /Library/Frameworks/Python.framework/Versions/3.13/lib/python3.13/site-packages (from prompt_toolkit<3.1.0,>=3.0.41->ipython>=7.23.1->ipykernel) (0.2.13)\n",
            "Requirement already satisfied: parso<0.9.0,>=0.8.4 in /Library/Frameworks/Python.framework/Versions/3.13/lib/python3.13/site-packages (from jedi>=0.16->ipython>=7.23.1->ipykernel) (0.8.5)\n",
            "Requirement already satisfied: python-dateutil>=2.8.2 in /Library/Frameworks/Python.framework/Versions/3.13/lib/python3.13/site-packages (from jupyter-client>=8.0.0->ipykernel) (2.9.0.post0)\n",
            "Requirement already satisfied: platformdirs>=2.5 in /Library/Frameworks/Python.framework/Versions/3.13/lib/python3.13/site-packages (from jupyter-core!=5.0.*,>=4.12->ipykernel) (4.4.0)\n",
            "Requirement already satisfied: ptyprocess>=0.5 in /Library/Frameworks/Python.framework/Versions/3.13/lib/python3.13/site-packages (from pexpect>4.3->ipython>=7.23.1->ipykernel) (0.7.0)\n",
            "Requirement already satisfied: six>=1.5 in /Library/Frameworks/Python.framework/Versions/3.13/lib/python3.13/site-packages (from python-dateutil>=2.8.2->jupyter-client>=8.0.0->ipykernel) (1.17.0)\n",
            "Requirement already satisfied: executing>=1.2.0 in /Library/Frameworks/Python.framework/Versions/3.13/lib/python3.13/site-packages (from stack_data->ipython>=7.23.1->ipykernel) (2.2.1)\n",
            "Requirement already satisfied: asttokens>=2.1.0 in /Library/Frameworks/Python.framework/Versions/3.13/lib/python3.13/site-packages (from stack_data->ipython>=7.23.1->ipykernel) (3.0.0)\n",
            "Requirement already satisfied: pure-eval in /Library/Frameworks/Python.framework/Versions/3.13/lib/python3.13/site-packages (from stack_data->ipython>=7.23.1->ipykernel) (0.2.3)\n",
            "Note: you may need to restart the kernel to use updated packages.\n"
          ]
        }
      ],
      "source": [
        "# Asegurar que las librerias existen\n",
        "%pip install matplotlib\n",
        "%pip install ipykernel"
      ]
    },
    {
      "cell_type": "code",
      "execution_count": 6,
      "metadata": {},
      "outputs": [],
      "source": [
        "# Cargar módulos (solo estándar + matplotlib para graficar)\n",
        "import random  # Para generar datos sintéticos\n",
        "import math    # Para operaciones matemáticas (distancias, etc.)\n",
        "import matplotlib.pyplot as plt  # Para graficar\n",
        "\n",
        "%matplotlib inline"
      ]
    },
    {
      "cell_type": "markdown",
      "metadata": {},
      "source": [
        "# Teoría sobre el algoritmo de Clusterización Secuencial (Leader Algorithm)\n",
        "\n",
        "La **clusterización secuencial** (también conocida como *leader algorithm*) es un método simple y eficiente para agrupar\n",
        "observaciones en tiempo lineal con respecto al número de puntos. La idea principal es procesar los puntos uno por uno y\n",
        "decidir si el punto pertenece a un *líder* (centro) existente o si debe crear un nuevo clúster.\n",
        "\n",
        "## Definición del problema\n",
        "Dados puntos $x_i \\in \\mathbb{R}^d$ y un radio de similitud $R>0$, se buscan grupos tales que los puntos dentro de un mismo\n",
        "grupo estén a distancia no mayor que $R$ de su centro.\n",
        "\n",
        "## Algoritmo (versión básica)\n",
        "1. Inicializa la lista de centros vacía.\n",
        "2. Para cada punto $x$ en el orden de llegada:\n",
        "   - Encuentra el centro más cercano $\\mu_k$.\n",
        "   - Si $\\text{dist}(x, \\mu_k) \\le R$, asigna $x$ al clúster $k$ y **actualiza el centro** con el promedio incremental.\n",
        "   - En caso contrario, **crea un nuevo clúster** con centro $x$.\n",
        "\n",
        "Usaremos la **distancia Euclidiana** en $\\mathbb{R}^2$:\n",
        "$$ d\\big((x,y),(u,v)\\big)=\\sqrt{(x-u)^2+(y-v)^2}. $$\n",
        "\n",
        "## Actualización incremental del centro\n",
        "Si un clúster tiene centro actual $\\boldsymbol{\\mu}$, soporta $n$ puntos y agregamos un nuevo punto $\\mathbf{x}$, el nuevo centro es:\n",
        "$$ \\boldsymbol{\\mu}' = \\boldsymbol{\\mu} + \\frac{\\mathbf{x} - \\boldsymbol{\\mu}}{n+1}. $$\n",
        "\n",
        "## Complejidad\n",
        "- En el peor caso, si se crean muchos clústeres, la búsqueda del centro más cercano puede costar $O(K)$ por punto (donde $K$ es el número de clústeres formados),\n",
        "  y el algoritmo completo es $O(NK)$ con $N$ puntos. En práctica, con radios razonables, $K\\ll N$ y el método es muy rápido.\n",
        "\n",
        "## Ventajas y limitaciones\n",
        "- **Ventajas:** simple, lineal en el flujo de datos, útil en escenarios *online*.\n",
        "- **Limitaciones:** depende fuertemente del orden de llegada y de la selección del radio $R$; no re-asigna puntos una vez creados los clústeres."
      ]
    },
    {
      "cell_type": "markdown",
      "metadata": {},
      "source": [
        "## Funciones auxiliares: distancia y promedio incremental"
      ]
    },
    {
      "cell_type": "code",
      "execution_count": null,
      "metadata": {},
      "outputs": [],
      "source": [
        "def euclidean(p, q):\n",
        "    \"\"\"Distancia Euclidiana en 2D entre p=(x,y) y q=(u,v).\"\"\"\n",
        "    return math.sqrt((p[0]-q[0])**2 + (p[1]-q[1])**2)\n",
        "\n",
        "def update_center_incremental(center, n, x):\n",
        "    \"\"\"Actualiza el centro (promedio) al agregar un nuevo punto x. n es el conteo actual antes de agregar x.\"\"\"\n",
        "    cx, cy = center\n",
        "    nx = cx + (x[0] - cx) / (n + 1)\n",
        "    ny = cy + (x[1] - cy) / (n + 1)\n",
        "    return (nx, ny)"
      ]
    },
    {
      "cell_type": "markdown",
      "metadata": {},
      "source": [
        "## Implementación pura en Python del algoritmo secuencial"
      ]
    },
    {
      "cell_type": "code",
      "execution_count": null,
      "metadata": {},
      "outputs": [],
      "source": [
        "class SequentialClusterer:\n",
        "    \"\"\"\n",
        "    Implementación del algoritmo de clusterización secuencial (leader algorithm) en 2D, sin librerías externas.\n",
        "    - radius: umbral R para decidir si un punto se agrega a un clúster existente o crea uno nuevo.\n",
        "    - distance_fn: función de distancia; por defecto, Euclidiana.\n",
        "    \"\"\"\n",
        "    def __init__(self, radius, distance_fn=euclidean):\n",
        "        self.radius = radius\n",
        "        self.distance_fn = distance_fn\n",
        "        self.centers = []   # Lista de centros (tuplas (x,y))\n",
        "        self.counts = []    # Tamaño de cada clúster\n",
        "        self.assignments_ = []  # Índice de clúster para cada punto en el mismo orden de entrada\n",
        "\n",
        "    def fit(self, data):\n",
        "        assignments = []\n",
        "        for x in data:\n",
        "            if not self.centers:\n",
        "                # Primer punto crea el primer clúster\n",
        "                self.centers.append(x)\n",
        "                self.counts.append(1)\n",
        "                assignments.append(0)\n",
        "                continue\n",
        "\n",
        "            # Buscar centro más cercano\n",
        "            best_k = None\n",
        "            best_d = float('inf')\n",
        "            for k, c in enumerate(self.centers):\n",
        "                d = self.distance_fn(x, c)\n",
        "                if d < best_d:\n",
        "                    best_d = d\n",
        "                    best_k = k\n",
        "\n",
        "            # Decisión según el radio\n",
        "            if best_d <= self.radius:\n",
        "                # Asignar al clúster existente y actualizar centro de manera incremental\n",
        "                n = self.counts[best_k]\n",
        "                self.centers[best_k] = update_center_incremental(self.centers[best_k], n, x)\n",
        "                self.counts[best_k] = n + 1\n",
        "                assignments.append(best_k)\n",
        "            else:\n",
        "                # Crear un nuevo clúster\n",
        "                self.centers.append(x)\n",
        "                self.counts.append(1)\n",
        "                assignments.append(len(self.centers) - 1)\n",
        "\n",
        "        self.assignments_ = assignments\n",
        "        return assignments\n",
        "\n",
        "    def predict(self, points):\n",
        "        \"\"\"Asigna nuevos puntos al centro más cercano (sin modificar los centros).\"\"\"\n",
        "        result = []\n",
        "        for x in points:\n",
        "            best_k = None\n",
        "            best_d = float('inf')\n",
        "            for k, c in enumerate(self.centers):\n",
        "                d = self.distance_fn(x, c)\n",
        "                if d < best_d:\n",
        "                    best_d = d\n",
        "                    best_k = k\n",
        "            result.append(best_k)\n",
        "        return result"
      ]
    },
    {
      "cell_type": "markdown",
      "metadata": {},
      "source": [
        "## Generación de datos sintéticos (sin NumPy)\n",
        "\n",
        "Para ilustrar, generaremos tres \"nubes\" de puntos en 2D usando `random.gauss(μ, σ)` de la librería estándar.\n",
        "Esto **no** requiere librerías externas."
      ]
    },
    {
      "cell_type": "code",
      "execution_count": null,
      "metadata": {},
      "outputs": [],
      "source": [
        "def generar_blobs(seed=42):\n",
        "    random.seed(seed)\n",
        "    blobs = []\n",
        "    # Centros verdaderos (solo para simular datos)\n",
        "    centros = [(-2.5, 0.0), (2.5, 0.5), (0.0, 3.0)]\n",
        "    sigmas = [0.6, 0.5, 0.7]\n",
        "    tamanos = [80, 70, 90]\n",
        "    for (mx, my), s, n in zip(centros, sigmas, tamanos):\n",
        "        for _ in range(n):\n",
        "            x = random.gauss(mx, s)\n",
        "            y = random.gauss(my, s)\n",
        "            blobs.append((x, y))\n",
        "    return blobs\n",
        "\n",
        "datos = generar_blobs()\n",
        "len(datos)  # número total de puntos"
      ]
    },
    {
      "cell_type": "markdown",
      "metadata": {},
      "source": [
        "## Ejecutar el algoritmo\n",
        "\n",
        "Elegimos un radio $R$ razonable según la dispersión simulada (por ejemplo, `R = 1.2`).\n",
        "Valores muy pequeños crearán muchos clústeres; valores muy grandes mezclarán distintos grupos."
      ]
    },
    {
      "cell_type": "code",
      "execution_count": null,
      "metadata": {},
      "outputs": [],
      "source": [
        "R = 1.2  # radio de similitud\n",
        "sc = SequentialClusterer(radius=R)\n",
        "asignaciones = sc.fit(datos)\n",
        "\n",
        "print(\"Número de clústeres formados:\", len(sc.centers))\n",
        "for i, (c, n) in enumerate(zip(sc.centers, sc.counts)):\n",
        "    print(f\"Cluster {i}: tamaño={n}, centro aproximado={c}\")"
      ]
    },
    {
      "cell_type": "markdown",
      "metadata": {},
      "source": [
        "## Visualización 2D de los clústeres"
      ]
    },
    {
      "cell_type": "code",
      "execution_count": null,
      "metadata": {},
      "outputs": [],
      "source": [
        "def graficar_clusters(datos, asignaciones, centers, title=\"Clusterización Secuencial (Leader)\"):\n",
        "    # Preparar una paleta de colores suficientemente grande (reutilizable)\n",
        "    base_colors = (\n",
        "        'tab:blue', 'tab:orange', 'tab:green', 'tab:red', 'tab:purple',\n",
        "        'tab:brown', 'tab:pink', 'tab:gray', 'tab:olive', 'tab:cyan'\n",
        "    )\n",
        "    colores = [base_colors[i % len(base_colors)] for i in range(len(centers))]\n",
        "\n",
        "    plt.figure(figsize=(10, 6))\n",
        "    # Dibujar puntos por clúster\n",
        "    for k in range(len(centers)):\n",
        "        xs = [p[0] for p, a in zip(datos, asignaciones) if a == k]\n",
        "        ys = [p[1] for p, a in zip(datos, asignaciones) if a == k]\n",
        "        plt.scatter(xs, ys, s=18, alpha=0.7, label=f\"Cluster {k}\", color=colores[k])\n",
        "    # Dibujar centros\n",
        "    cx = [c[0] for c in centers]\n",
        "    cy = [c[1] for c in centers]\n",
        "    plt.scatter(cx, cy, s=160, marker='X', edgecolor='k', linewidths=1.0, label='Centros')\n",
        "    plt.title(title)\n",
        "    plt.xlabel('x')\n",
        "    plt.ylabel('y')\n",
        "    plt.legend()\n",
        "    plt.grid(True, linestyle='--', alpha=0.3)\n",
        "    plt.show()\n",
        "\n",
        "graficar_clusters(datos, asignaciones, sc.centers)"
      ]
    },
    {
      "cell_type": "markdown",
      "metadata": {},
      "source": [
        "## Efecto del radio $R$ en el número de clústeres\n",
        "Comparemos con distintos valores de $R$ para ver cómo afecta la segmentación."
      ]
    },
    {
      "cell_type": "code",
      "execution_count": null,
      "metadata": {},
      "outputs": [],
      "source": [
        "radios = [0.6, 1.2, 2.0]\n",
        "plt.figure(figsize=(15, 4))\n",
        "for i, Rtest in enumerate(radios, start=1):\n",
        "    clus = SequentialClusterer(radius=Rtest)\n",
        "    asg = clus.fit(datos)\n",
        "    plt.subplot(1, 3, i)\n",
        "    base_colors = (\n",
        "        'tab:blue', 'tab:orange', 'tab:green', 'tab:red', 'tab:purple',\n",
        "        'tab:brown', 'tab:pink', 'tab:gray', 'tab:olive', 'tab:cyan'\n",
        "    )\n",
        "    colores = [base_colors[j % len(base_colors)] for j in range(len(clus.centers))]\n",
        "    for k in range(len(clus.centers)):\n",
        "        xs = [p[0] for p, a in zip(datos, asg) if a == k]\n",
        "        ys = [p[1] for p, a in zip(datos, asg) if a == k]\n",
        "        plt.scatter(xs, ys, s=10, alpha=0.7, color=colores[k])\n",
        "    cx = [c[0] for c in clus.centers]\n",
        "    cy = [c[1] for c in clus.centers]\n",
        "    plt.scatter(cx, cy, s=100, marker='X', edgecolor='k', linewidths=1.0)\n",
        "    plt.title(f\"R = {Rtest} (K={len(clus.centers)})\")\n",
        "    plt.xlabel('x')\n",
        "    if i == 1:\n",
        "        plt.ylabel('y')\n",
        "    plt.grid(True, linestyle='--', alpha=0.3)\n",
        "plt.tight_layout()\n",
        "plt.show()"
      ]
    },
    {
      "cell_type": "markdown",
      "metadata": {},
      "source": [
        "## Conclusión\n",
        "\n",
        "Implementamos el **algoritmo de clusterización secuencial** en Python puro, usando únicamente `matplotlib` para graficar.\n",
        "Vimos cómo, al procesar los puntos en secuencia y con un radio $R$ fijo, se forman clústeres de manera *online* y muy eficiente.\n",
        "También observamos la sensibilidad del método al valor de $R$: radios pequeños fragmentan en muchos clústeres, mientras que\n",
        "radios grandes fusionan grupos distintos. Este enfoque es útil cuando necesitamos agrupar datos en flujo (*streaming*) o\n",
        "cuando la simplicidad y el rendimiento son más importantes que la optimización global del particionado."
      ]
    }
  ],
  "metadata": {
    "kernelspec": {
      "display_name": "Python 3",
      "language": "python",
      "name": "python3"
    },
    "language_info": {
      "codemirror_mode": {
        "name": "ipython",
        "version": 3
      },
      "file_extension": ".py",
      "mimetype": "text/x-python",
      "name": "python",
      "nbconvert_exporter": "python",
      "pygments_lexer": "ipython3",
      "version": "3.13.5"
    }
  },
  "nbformat": 4,
  "nbformat_minor": 4
}
